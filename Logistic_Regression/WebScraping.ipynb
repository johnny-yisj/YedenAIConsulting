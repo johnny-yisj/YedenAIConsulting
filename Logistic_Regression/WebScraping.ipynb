{
 "cells": [
  {
   "cell_type": "code",
   "execution_count": 1,
   "id": "8baed408",
   "metadata": {},
   "outputs": [],
   "source": [
    "import requests"
   ]
  },
  {
   "cell_type": "code",
   "execution_count": 2,
   "id": "fe84edc4",
   "metadata": {},
   "outputs": [],
   "source": [
    "from bs4 import BeautifulSoup"
   ]
  },
  {
   "cell_type": "code",
   "execution_count": 13,
   "id": "1c937d9f",
   "metadata": {},
   "outputs": [],
   "source": [
    "def scrape_webpage(url):\n",
    "    response = requests.get(url)\n",
    "    if response.status_code == 200:\n",
    "        soup = BeautifulSoup(response.text, 'html.parser')\n",
    "        links = soup.find_all('a')\n",
    "        for link in links:\n",
    "                print(link.get('href'))\n",
    "        else:\n",
    "            print(f\"Failed to retrieve the webpage. Status code: {response.status_code}\")"
   ]
  },
  {
   "cell_type": "code",
   "execution_count": 14,
   "id": "e1138e54",
   "metadata": {},
   "outputs": [
    {
     "name": "stdout",
     "output_type": "stream",
     "text": [
      "#\n",
      "https://johnsacademy.com.au/\n",
      "https://johnsacademy.com.au/\n",
      "https://www.johnsacademy.com.au\n",
      "https://johnsacademy.com.au/algebra-master-class/\n",
      "https://johnsacademy.com.au/year-11-holiday-course/\n",
      "https://johnsacademy.com.au/year-12-holiday-course/\n",
      "https://johnsacademy.com.au/courses\n",
      "https://johnsacademy.com.au/canberra-maths-tutor-physics-tutor-chemistry-tutor/\n",
      "#\n",
      "#\n",
      "https://johnsacademy.com.au/cart/\n",
      "https://johnsacademy.com.au/wp-login.php\n",
      "https://johnsacademy.com.au/register/\n",
      "#\n",
      "https://johnsacademy.com.au/\n",
      "#\n",
      "#\n",
      "#\n",
      "https://johnsacademy.com.au/\n",
      "https://johnsacademy.com.au/\n",
      "https://www.johnsacademy.com.au\n",
      "https://johnsacademy.com.au/algebra-master-class/\n",
      "https://johnsacademy.com.au/year-11-holiday-course/\n",
      "https://johnsacademy.com.au/year-12-holiday-course/\n",
      "https://johnsacademy.com.au/courses\n",
      "https://johnsacademy.com.au/canberra-maths-tutor-physics-tutor-chemistry-tutor/\n",
      "https://johnsacademy.com.au/wp-login.php\n",
      "https://johnsacademy.com.au/register/\n",
      "#\n",
      "/cdn-cgi/l/email-protection\n",
      "https://johnsacademy.com.au/courses/\n",
      "#\n",
      "#\n",
      "Failed to retrieve the webpage. Status code: 200\n"
     ]
    }
   ],
   "source": [
    "scrape_webpage('https://johnsacademy.com.au')\n"
   ]
  },
  {
   "cell_type": "code",
   "execution_count": null,
   "id": "ca0f3170",
   "metadata": {},
   "outputs": [],
   "source": []
  }
 ],
 "metadata": {
  "kernelspec": {
   "display_name": "Python 3 (ipykernel)",
   "language": "python",
   "name": "python3"
  },
  "language_info": {
   "codemirror_mode": {
    "name": "ipython",
    "version": 3
   },
   "file_extension": ".py",
   "mimetype": "text/x-python",
   "name": "python",
   "nbconvert_exporter": "python",
   "pygments_lexer": "ipython3",
   "version": "3.9.13"
  }
 },
 "nbformat": 4,
 "nbformat_minor": 5
}
