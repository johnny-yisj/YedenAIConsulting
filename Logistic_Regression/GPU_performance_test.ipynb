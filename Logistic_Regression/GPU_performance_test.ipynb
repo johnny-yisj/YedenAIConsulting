{
 "cells": [
  {
   "cell_type": "code",
   "execution_count": null,
   "id": "152146df",
   "metadata": {},
   "outputs": [],
   "source": [
    "import time\n",
    "\n",
    "# Function to perform a long CPU-intensive calculation\n",
    "def sum_of_powers(n):\n",
    "    result = sum(i ** i % 100_000_007 for i in range(1, n))  # More expensive computation\n",
    "    return result\n",
    "\n",
    "# Define a much larger number for computation\n",
    "N = 1_000_000_000  # 1 billion\n",
    "\n",
    "# Measure time taken\n",
    "start_time = time.time()\n",
    "result = sum_of_powers(N)\n",
    "end_time = time.time()\n",
    "\n",
    "# Print results\n",
    "print(f\"Computation result: {result}\")\n",
    "print(f\"Time taken: {end_time - start_time:.2f} seconds (CPU only)\")\n"
   ]
  },
  {
   "cell_type": "code",
   "execution_count": null,
   "id": "247283ce",
   "metadata": {},
   "outputs": [],
   "source": []
  }
 ],
 "metadata": {
  "kernelspec": {
   "display_name": "Python 3 (ipykernel)",
   "language": "python",
   "name": "python3"
  },
  "language_info": {
   "codemirror_mode": {
    "name": "ipython",
    "version": 3
   },
   "file_extension": ".py",
   "mimetype": "text/x-python",
   "name": "python",
   "nbconvert_exporter": "python",
   "pygments_lexer": "ipython3",
   "version": "3.9.13"
  }
 },
 "nbformat": 4,
 "nbformat_minor": 5
}
