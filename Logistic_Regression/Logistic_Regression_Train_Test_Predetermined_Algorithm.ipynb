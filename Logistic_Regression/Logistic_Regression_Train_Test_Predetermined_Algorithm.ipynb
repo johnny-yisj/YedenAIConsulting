{
 "cells": [
  {
   "cell_type": "code",
   "execution_count": null,
   "id": "8335d1bc",
   "metadata": {},
   "outputs": [],
   "source": [
    "import numpy as np\n",
    "import pandas as pd\n",
    "from sklearn.model_selection import train_test_split\n",
    "from sklearn.linear_model import LogisticRegression\n",
    "from sklearn.preprocessing import OneHotEncoder, StandardScaler\n",
    "from sklearn.compose import ColumnTransformer\n",
    "from sklearn.pipeline import Pipeline\n",
    "from sklearn.metrics import accuracy_score\n",
    "from sklearn.metrics import accuracy_score, classification_report\n",
    "from xgboost import XGBClassifier\n",
    "# Step 1: Generate synthetic dataset\n",
    "np.random.seed(42)  # For reproducibility\n",
    "\n",
    "\n",
    "# Features\n",
    "study_hours = np.random.randint(5, 20, 100)  # Numerical: Study Hours (5 to 20)\n",
    "sleep_hours = np.random.randint(6, 10, 100)  # Numerical: Sleep Hours (6 to 9)\n",
    "participation = np.random.choice(['Low', 'Medium', 'High'], 100)  # Categorical: Class Participation\n",
    "\n",
    "# Outcome: Pass/Fail\n",
    "# Rule: Pass if study_hours * 0.5 + sleep_hours * 0.3 + participation score >= 10\n",
    "participation_scores = {'Low': 1, 'Medium': 2, 'High': 3}\n",
    "pass_status = (study_hours * 0.5 + sleep_hours * 0.3 + np.vectorize(participation_scores.get)(participation) >= 10).astype(int)\n",
    "\n",
    "# Create a DataFrame\n",
    "data = pd.DataFrame({\n",
    "    'Study Hours': study_hours,\n",
    "    'Sleep Hours': sleep_hours,\n",
    "    'Participation': participation,\n",
    "    'Pass Status': pass_status\n",
    "})\n",
    "\n",
    "\n",
    "\n",
    "X = data[['Study Hours', 'Sleep Hours', 'Participation']]\n",
    "y = data['Pass Status']\n",
    "\n",
    "X = pd.get_dummies(X, columns=['Participation'], drop_first=True)  # One-hot encoding\n",
    "X_train, X_test, y_train, y_test = train_test_split(X, y, test_size=0.3, random_state=42)\n",
    "model = XGBClassifier(use_label_encoder=False, eval_metric='logloss')\n",
    "model.fit(X_train, y_train)\n"
   ]
  },
  {
   "cell_type": "code",
   "execution_count": null,
   "id": "02267c36",
   "metadata": {},
   "outputs": [],
   "source": [
    "X = data[['Study Hours', 'Sleep Hours', 'Participation']]\n",
    "y = data['Pass Status']\n"
   ]
  },
  {
   "cell_type": "code",
   "execution_count": null,
   "id": "7baf5c3a",
   "metadata": {},
   "outputs": [],
   "source": [
    "X = pd.get_dummies(X, columns=['Participation'], drop_first=True)  # One-hot encoding\n"
   ]
  },
  {
   "cell_type": "code",
   "execution_count": null,
   "id": "adee0bf3",
   "metadata": {},
   "outputs": [],
   "source": [
    "X_train, X_test, y_train, y_test = train_test_split(X, y, test_size=0.3, random_state=42)\n"
   ]
  },
  {
   "cell_type": "code",
   "execution_count": null,
   "id": "23f1f47c",
   "metadata": {},
   "outputs": [],
   "source": [
    "model = XGBClassifier(use_label_encoder=False, eval_metric='logloss')"
   ]
  },
  {
   "cell_type": "code",
   "execution_count": null,
   "id": "af725aa2",
   "metadata": {},
   "outputs": [],
   "source": [
    "model.fit(X_train, y_train)\n"
   ]
  },
  {
   "cell_type": "code",
   "execution_count": null,
   "id": "335d5251",
   "metadata": {},
   "outputs": [],
   "source": [
    "y_pred = model.predict(X_test)\n",
    "y_pred"
   ]
  },
  {
   "cell_type": "code",
   "execution_count": null,
   "id": "b945241e",
   "metadata": {},
   "outputs": [],
   "source": [
    "y_pred = model.predict(X_test)\n",
    "accuracy = accuracy_score(y_test, y_pred)\n",
    "print(\"Accuracy:\", accuracy)\n",
    "print(\"\\nClassification Report:\\n\", classification_report(y_test, y_pred))\n"
   ]
  },
  {
   "cell_type": "code",
   "execution_count": null,
   "id": "377d3f39",
   "metadata": {},
   "outputs": [],
   "source": [
    "new_data = pd.DataFrame({\n",
    "    'Study Hours': [8, 15],\n",
    "    'Sleep Hours': [7, 9],\n",
    "    'Participation': ['Low', 'High']\n",
    "})"
   ]
  },
  {
   "cell_type": "code",
   "execution_count": null,
   "id": "16f4c91c",
   "metadata": {},
   "outputs": [],
   "source": [
    "predictions = model.predict(new_data)\n",
    "predicted_probabilities = model.predict_proba(new_data)\n",
    "print(\"New Data Predictions (Pass=1/Fail=0):\", predictions)\n",
    "print(\"New Data Prediction Probabilities:\", predicted_probabilities)"
   ]
  },
  {
   "cell_type": "code",
   "execution_count": null,
   "id": "c83230b0",
   "metadata": {},
   "outputs": [],
   "source": []
  }
 ],
 "metadata": {
  "kernelspec": {
   "display_name": "Python 3 (ipykernel)",
   "language": "python",
   "name": "python3"
  },
  "language_info": {
   "codemirror_mode": {
    "name": "ipython",
    "version": 3
   },
   "file_extension": ".py",
   "mimetype": "text/x-python",
   "name": "python",
   "nbconvert_exporter": "python",
   "pygments_lexer": "ipython3",
   "version": "3.9.13"
  }
 },
 "nbformat": 4,
 "nbformat_minor": 5
}
